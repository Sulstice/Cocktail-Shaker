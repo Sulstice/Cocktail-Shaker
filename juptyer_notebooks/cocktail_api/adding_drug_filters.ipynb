{
 "cells": [
  {
   "cell_type": "code",
   "execution_count": 16,
   "metadata": {},
   "outputs": [
    {
     "name": "stdout",
     "output_type": "stream",
     "text": [
      "NCC(NCC(NCC(O)=O)=O)=O\n"
     ]
    }
   ],
   "source": [
    "# Welcome to the Cocktail Shaker Drug Filters Feature! \n",
    "# If you would like your library to filter out by a specific common rule drug filters you can do something\n",
    "# like this\n",
    "\n",
    "# Cocktail Shaker Imports\n",
    "# ------------------------\n",
    "from cocktail_shaker import Cocktail\n",
    "from cocktail_shaker import PeptideBuilder\n",
    "\n",
    "# Generate a peptide with 2 slots\n",
    "peptide_backbone = PeptideBuilder(2)\n"
   ]
  },
  {
   "cell_type": "code",
   "execution_count": 18,
   "metadata": {},
   "outputs": [
    {
     "name": "stdout",
     "output_type": "stream",
     "text": [
      "Generating 12 Compounds...\nApplying Drug Filters...\n['NC(F)C(=O)NC(I)C(=O)NCC(=O)O', 'NC(I)C(=O)NC(Br)C(=O)NCC(=O)O', 'NC(Cl)C(=O)NC(I)C(=O)NCC(=O)O', 'NC(Br)C(=O)NC(F)C(=O)NCC(=O)O', 'NC(F)C(=O)NC(Br)C(=O)NCC(=O)O', 'NC(I)C(=O)NC(Cl)C(=O)NCC(=O)O', 'NC(Cl)C(=O)NC(F)C(=O)NCC(=O)O', 'NC(I)C(=O)NC(F)C(=O)NCC(=O)O', 'NC(Br)C(=O)NC(Cl)C(=O)NCC(=O)O', 'NC(Cl)C(=O)NC(Br)C(=O)NCC(=O)O', 'NC(Br)C(=O)NC(I)C(=O)NCC(=O)O', 'NC(F)C(=O)NC(Cl)C(=O)NCC(=O)O']\n"
     ]
    }
   ],
   "source": [
    "cocktail = Cocktail(peptide_backbone, ligand_library=['Br', 'I', 'F', 'Cl'])\n",
    "combinations = cocktail.shake(compound_filters=[\"Lipinski\"])\n",
    "print (combinations)"
   ]
  },
  {
   "cell_type": "code",
   "execution_count": 20,
   "metadata": {},
   "outputs": [
    {
     "name": "stdout",
     "output_type": "stream",
     "text": [
      "Generating 12 Compounds...\nApplying Drug Filters...\n['NC(F)C(=O)NC(I)C(=O)NCC(=O)O', 'NC(F)C(=O)NC(I)C(=O)NCC(=O)O', 'NC(I)C(=O)NC(Br)C(=O)NCC(=O)O', 'NC(I)C(=O)NC(Br)C(=O)NCC(=O)O', 'NC(Cl)C(=O)NC(I)C(=O)NCC(=O)O', 'NC(Cl)C(=O)NC(I)C(=O)NCC(=O)O', 'NC(Br)C(=O)NC(F)C(=O)NCC(=O)O', 'NC(Br)C(=O)NC(F)C(=O)NCC(=O)O', 'NC(F)C(=O)NC(Br)C(=O)NCC(=O)O', 'NC(F)C(=O)NC(Br)C(=O)NCC(=O)O', 'NC(I)C(=O)NC(Cl)C(=O)NCC(=O)O', 'NC(I)C(=O)NC(Cl)C(=O)NCC(=O)O', 'NC(Cl)C(=O)NC(F)C(=O)NCC(=O)O', 'NC(Cl)C(=O)NC(F)C(=O)NCC(=O)O', 'NC(I)C(=O)NC(F)C(=O)NCC(=O)O', 'NC(I)C(=O)NC(F)C(=O)NCC(=O)O', 'NC(Br)C(=O)NC(Cl)C(=O)NCC(=O)O', 'NC(Br)C(=O)NC(Cl)C(=O)NCC(=O)O', 'NC(Cl)C(=O)NC(Br)C(=O)NCC(=O)O', 'NC(Cl)C(=O)NC(Br)C(=O)NCC(=O)O', 'NC(Br)C(=O)NC(I)C(=O)NCC(=O)O', 'NC(Br)C(=O)NC(I)C(=O)NCC(=O)O', 'NC(F)C(=O)NC(Cl)C(=O)NCC(=O)O', 'NC(F)C(=O)NC(Cl)C(=O)NCC(=O)O']\n"
     ]
    }
   ],
   "source": [
    "# Alternatively if you wish to stack different filters for your library you can do something like this\n",
    "\n",
    "cocktail = Cocktail(peptide_backbone, ligand_library=['Br', 'I', 'F', 'Cl'])\n",
    "combinations = cocktail.shake(compound_filters=[\"Lipinski\", \"REOS\", \"Rule of 3\"])\n",
    "print (combinations)\n"
   ]
  },
  {
   "cell_type": "code",
   "execution_count": null,
   "metadata": {},
   "outputs": [],
   "source": []
  }
 ],
 "metadata": {},
 "nbformat": 4,
 "nbformat_minor": 0
}
