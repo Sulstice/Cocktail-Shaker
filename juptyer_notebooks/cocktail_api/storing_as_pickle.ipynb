{
 "cells": [
  {
   "cell_type": "code",
   "execution_count": 1,
   "metadata": {},
   "outputs": [
    {
     "name": "stdout",
     "output_type": "stream",
     "text": [
      "NCC(NCC(NCC(O)=O)=O)=O\n"
     ]
    },
    {
     "name": "stderr",
     "output_type": "stream",
     "text": [
      "RDKit WARNING: [14:10:55] Enabling RDKit 2019.09.1 jupyter extensions\n"
     ]
    }
   ],
   "source": [
    "# Welcome to the Cocktail Shaker storing as a pickle! \n",
    "# Since some libraries get to be massive it could alternatively be best stored as a pickle file\n",
    "# cocktail shaker allows you to do this and stores as a cocktail_shaker.pickle file.\n",
    "\n",
    "# Cocktail Shaker Imports\n",
    "# ------------------------\n",
    "from cocktail_shaker import Cocktail\n",
    "from cocktail_shaker import PeptideBuilder\n",
    "\n",
    "# Generate a peptide with 2 slots\n",
    "peptide_backbone = PeptideBuilder(2)"
   ]
  },
  {
   "cell_type": "code",
   "execution_count": 2,
   "metadata": {},
   "outputs": [
    {
     "name": "stdout",
     "output_type": "stream",
     "text": [
      "Generating 2 Compounds...\nsaving result to cache 'cocktail_shaker.pickle'\n"
     ]
    },
    {
     "data": {
      "text/plain": [
       "['NC(Br)C(=O)NC(I)C(=O)NCC(=O)O', 'NC(I)C(=O)NC(Br)C(=O)NCC(=O)O']"
      ]
     },
     "execution_count": 2,
     "metadata": {},
     "output_type": "execute_result"
    }
   ],
   "source": [
    "cocktail = Cocktail(peptide_backbone, ligand_library=['Br', 'I'])\n",
    "cocktail.shake(store_as_pickle = True)"
   ]
  },
  {
   "cell_type": "code",
   "execution_count": null,
   "metadata": {},
   "outputs": [],
   "source": []
  }
 ],
 "metadata": {},
 "nbformat": 4,
 "nbformat_minor": 0
}
