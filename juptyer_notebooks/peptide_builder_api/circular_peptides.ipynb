{
 "cells": [
  {
   "cell_type": "code",
   "execution_count": 3,
   "metadata": {
    "collapsed": false
   },
   "outputs": [
    {
     "name": "stdout",
     "output_type": "stream",
     "text": [
      "O=C1C([*:1])NC(=O)C([*:2])NC(=O)C([*:3])N1\n"
     ]
    }
   ],
   "source": [
    "# Welcome to the Cocktail Shaker circular peptide generator! \n",
    "# For the folk that deal with circular peptides I have something for you as well, just pass in \n",
    "# the circular flag!\n",
    "\n",
    "# Cocktail Shaker Imports\n",
    "# ------------------------\n",
    "from cocktail_shaker import Cocktail\n",
    "from cocktail_shaker import PeptideBuilder\n",
    "\n",
    "# Generate a peptide with 3 slots (minimum - and it's so constrained...)\n",
    "peptide_backbone = PeptideBuilder(3, circular=True)\n",
    "print (peptide_backbone)\n"
   ]
  },
  {
   "cell_type": "code",
   "execution_count": null,
   "metadata": {},
   "outputs": [],
   "source": []
  }
 ],
 "metadata": {},
 "nbformat": 4,
 "nbformat_minor": 0
}
