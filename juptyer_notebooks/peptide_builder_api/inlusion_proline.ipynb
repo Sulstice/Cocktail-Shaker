{
 "cells": [
  {
   "cell_type": "code",
   "execution_count": 1,
   "metadata": {},
   "outputs": [
    {
     "name": "stdout",
     "output_type": "stream",
     "text": [
      "N2CCCC2C(NCC(NCC(O)=O)=O)=O\n"
     ]
    },
    {
     "name": "stderr",
     "output_type": "stream",
     "text": [
      "RDKit WARNING: [14:26:28] Enabling RDKit 2019.09.1 jupyter extensions\n"
     ]
    }
   ],
   "source": [
    "# Welcome to the Cocktail Shaker inclusion of proline! \n",
    "# How do we handle proline? At the peptide builder of course! When generating the first string of your\n",
    "# peptide backbone string the PeptideBuilder class will add the proline on the end of your string\n",
    "\n",
    "# Cocktail Shaker Imports\n",
    "# ------------------------\n",
    "from cocktail_shaker import Cocktail\n",
    "from cocktail_shaker import PeptideBuilder\n",
    "\n",
    "# Generate a peptide with 2 slots\n",
    "peptide_backbone = PeptideBuilder(2, include_proline=True)\n"
   ]
  },
  {
   "cell_type": "code",
   "execution_count": null,
   "metadata": {},
   "outputs": [],
   "source": []
  }
 ],
 "metadata": {},
 "nbformat": 4,
 "nbformat_minor": 0
}
