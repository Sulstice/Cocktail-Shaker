{
 "cells": [
  {
   "cell_type": "code",
   "execution_count": 4,
   "metadata": {},
   "outputs": [
    {
     "name": "stdout",
     "output_type": "stream",
     "text": [
      "NCC(NCC(NCC(O)=O)=O)=O\n"
     ]
    }
   ],
   "source": [
    "# Welcome to the Cocktail Shaker Quickstart! \n",
    "# The point of this notebook is to generate a library of two different peptide combinations using\n",
    "# bromine and iodine. \n",
    "\n",
    "# Cocktail Shaker Imports\n",
    "# ------------------------\n",
    "from cocktail_shaker import Cocktail\n",
    "from cocktail_shaker import PeptideBuilder\n",
    "\n",
    "# Generate a peptide with 2 slots\n",
    "peptide_backbone = PeptideBuilder(2)\n"
   ]
  },
  {
   "cell_type": "code",
   "execution_count": 5,
   "metadata": {},
   "outputs": [
    {
     "name": "stdout",
     "output_type": "stream",
     "text": [
      "Generating 2 Compounds...\n['NC(I)C(=O)NC(Br)C(=O)NCC(=O)O', 'NC(Br)C(=O)NC(I)C(=O)NCC(=O)O']\n"
     ]
    }
   ],
   "source": [
    "# Pass in the peptide string and a library of ligands for the collection you would like to produce. \n",
    "cocktail = Cocktail(peptide_backbone,ligand_library = ['Br', 'I'])\n",
    "combinations = cocktail.shake()\n",
    "print (combinations)\n",
    "\n"
   ]
  },
  {
   "cell_type": "code",
   "execution_count": null,
   "metadata": {},
   "outputs": [],
   "source": []
  }
 ],
 "metadata": {},
 "nbformat": 4,
 "nbformat_minor": 0
}
