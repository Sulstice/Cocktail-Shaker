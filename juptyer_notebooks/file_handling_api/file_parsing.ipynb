{
 "cells": [
  {
   "cell_type": "code",
   "execution_count": 4,
   "metadata": {},
   "outputs": [
    {
     "name": "stdout",
     "output_type": "stream",
     "text": [
      "<cocktail_shaker.file_handler.FileParser object at 0x11c8d8bd0>\n"
     ]
    }
   ],
   "source": [
    "# Welcome to the Cocktail Shaker's File Parsing! \n",
    "# Cocktail Shaker uses RDKit's parsing under the hood. Reading in a collection of SDF files and \n",
    "# generates them to a list of smiles.\n",
    "\n",
    "from cocktail_shaker import FileParser\n",
    "\n",
    "molecules = FileParser('compounds.sdf')\n",
    "print (molecules)\n"
   ]
  },
  {
   "cell_type": "code",
   "execution_count": 2,
   "metadata": {},
   "outputs": [],
   "source": []
  },
  {
   "cell_type": "code",
   "execution_count": null,
   "metadata": {},
   "outputs": [],
   "source": []
  }
 ],
 "metadata": {},
 "nbformat": 4,
 "nbformat_minor": 0
}
