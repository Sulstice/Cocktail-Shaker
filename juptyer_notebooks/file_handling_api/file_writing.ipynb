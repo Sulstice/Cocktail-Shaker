{
 "cells": [
  {
   "cell_type": "code",
   "execution_count": 1,
   "metadata": {},
   "outputs": [
    {
     "name": "stdout",
     "output_type": "stream",
     "text": [
      "NCC(NCC(NCC(O)=O)=O)=O\n"
     ]
    },
    {
     "name": "stderr",
     "output_type": "stream",
     "text": [
      "RDKit WARNING: [14:35:39] Enabling RDKit 2019.09.1 jupyter extensions\n"
     ]
    }
   ],
   "source": [
    "# Welcome to the Cocktail Shaker's File Writing! \n",
    "# Cocktail Shaker uses RDKit's and the Cactus Resolver under the hood to generate files for all\n",
    "# different types\n",
    "\n",
    "# Cocktail Shaker Imports\n",
    "# -----------------------\n",
    "from cocktail_shaker import Cocktail, FileWriter\n",
    "from cocktail_shaker import PeptideBuilder\n",
    "\n",
    "peptide_backbone = PeptideBuilder(2)\n",
    "\n",
    "\n",
    "# cocktail = Cocktail(peptide_backbone,ligand_library = ['Br', 'I'])\n",
    "# combinations = cocktail.shake()\n",
    "# FileWriter('new_compounds', combinations, 'sdf')\n"
   ]
  },
  {
   "cell_type": "code",
   "execution_count": 2,
   "metadata": {},
   "outputs": [
    {
     "name": "stdout",
     "output_type": "stream",
     "text": [
      "Generating 2 Compounds...\n['NC(I)C(=O)NC(Br)C(=O)NCC(=O)O', 'NC(Br)C(=O)NC(I)C(=O)NCC(=O)O']\n"
     ]
    }
   ],
   "source": [
    "# Generate Combinations\n",
    "\n",
    "cocktail = Cocktail(peptide_backbone,ligand_library = ['Br', 'I'])\n",
    "combinations = cocktail.shake()\n",
    "print (combinations)"
   ]
  },
  {
   "cell_type": "code",
   "execution_count": 3,
   "metadata": {},
   "outputs": [
    {
     "name": "stdout",
     "output_type": "stream",
     "text": [
      "Writing Files... new_compoundssdf\n"
     ]
    },
    {
     "data": {
      "text/plain": [
       "<cocktail_shaker.file_handler.FileWriter at 0x120647650>"
      ]
     },
     "execution_count": 3,
     "metadata": {},
     "output_type": "execute_result"
    }
   ],
   "source": [
    "# Lets write the files!\n",
    "\n",
    "FileWriter('new_compounds', combinations, 'sdf')"
   ]
  },
  {
   "cell_type": "code",
   "execution_count": null,
   "metadata": {},
   "outputs": [],
   "source": []
  }
 ],
 "metadata": {},
 "nbformat": 4,
 "nbformat_minor": 0
}
